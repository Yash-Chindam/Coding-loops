{
 "cells": [
  {
   "cell_type": "code",
   "execution_count": 1,
   "id": "c79cdcab",
   "metadata": {},
   "outputs": [
    {
     "name": "stdout",
     "output_type": "stream",
     "text": [
      "enter the list size 5\n",
      "enter ur numbers \n",
      "12\n",
      "enter ur numbers \n",
      "-7\n",
      "enter ur numbers \n",
      "5\n",
      "enter ur numbers \n",
      "64\n",
      "enter ur numbers \n",
      "-14\n",
      "12 5 64 "
     ]
    }
   ],
   "source": [
    "Number =[]\n",
    "\n",
    "n=int(input(\"enter the list size \"))\n",
    "\n",
    "for i in range(0,n):\n",
    "    print(\"enter ur numbers \")\n",
    "    item=int(input())\n",
    "    Number.append(item)\n",
    "  \n",
    "\n",
    "for num in Number:\n",
    "    if num >= 0:\n",
    "       print(num, end = \" \")"
   ]
  },
  {
   "cell_type": "code",
   "execution_count": 2,
   "id": "62f5b853",
   "metadata": {},
   "outputs": [
    {
     "name": "stdout",
     "output_type": "stream",
     "text": [
      "enter the list size 4\n",
      "enter ur numbers \n",
      "12\n",
      "enter ur numbers \n",
      "14\n",
      "enter ur numbers \n",
      "-95\n",
      "enter ur numbers \n",
      "3\n",
      "12 14 3 "
     ]
    }
   ],
   "source": [
    "Number =[]\n",
    "\n",
    "n=int(input(\"enter the list size \"))\n",
    "\n",
    "for i in range(0,n):\n",
    "    print(\"enter ur numbers \")\n",
    "    item=int(input())\n",
    "    Number.append(item)\n",
    "  \n",
    "\n",
    "for num in Number:\n",
    "    if num >= 0:\n",
    "       print(num, end = \" \")"
   ]
  },
  {
   "cell_type": "code",
   "execution_count": null,
   "id": "df3406bd",
   "metadata": {},
   "outputs": [],
   "source": []
  }
 ],
 "metadata": {
  "kernelspec": {
   "display_name": "Python 3 (ipykernel)",
   "language": "python",
   "name": "python3"
  },
  "language_info": {
   "codemirror_mode": {
    "name": "ipython",
    "version": 3
   },
   "file_extension": ".py",
   "mimetype": "text/x-python",
   "name": "python",
   "nbconvert_exporter": "python",
   "pygments_lexer": "ipython3",
   "version": "3.9.7"
  }
 },
 "nbformat": 4,
 "nbformat_minor": 5
}
