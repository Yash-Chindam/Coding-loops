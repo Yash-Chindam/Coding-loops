{
 "cells": [
  {
   "cell_type": "code",
   "execution_count": 1,
   "id": "c79cdcab",
   "metadata": {},
   "outputs": [
    {
     "name": "stdout",
     "output_type": "stream",
     "text": [
      "enter the list size 4\n",
      "enter ur numbers \n",
      "3\n",
      "enter ur numbers \n",
      "2\n",
      "enter ur numbers \n",
      "-4\n",
      "enter ur numbers \n",
      "1\n",
      "3 2 1 "
     ]
    }
   ],
   "source": [
    "Number =[]\n",
    "\n",
    "n=int(input(\"enter the list size \"))\n",
    "\n",
    "for i in range(0,n):\n",
    "    print(\"enter ur numbers \")\n",
    "    item=int(input())\n",
    "    Number.append(item)\n",
    "  \n",
    "\n",
    "for num in Number:\n",
    "    if num >= 0:\n",
    "       print(num, end = \" \")"
   ]
  },
  {
   "cell_type": "code",
   "execution_count": null,
   "id": "62f5b853",
   "metadata": {},
   "outputs": [],
   "source": []
  }
 ],
 "metadata": {
  "kernelspec": {
   "display_name": "Python 3 (ipykernel)",
   "language": "python",
   "name": "python3"
  },
  "language_info": {
   "codemirror_mode": {
    "name": "ipython",
    "version": 3
   },
   "file_extension": ".py",
   "mimetype": "text/x-python",
   "name": "python",
   "nbconvert_exporter": "python",
   "pygments_lexer": "ipython3",
   "version": "3.9.7"
  }
 },
 "nbformat": 4,
 "nbformat_minor": 5
}
